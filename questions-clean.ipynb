{
 "cells": [
  {
   "cell_type": "code",
   "execution_count": 2,
   "metadata": {
    "collapsed": false
   },
   "outputs": [
    {
     "data": {
      "text/html": [
       "<div>\n",
       "<style scoped>\n",
       "    .dataframe tbody tr th:only-of-type {\n",
       "        vertical-align: middle;\n",
       "    }\n",
       "\n",
       "    .dataframe tbody tr th {\n",
       "        vertical-align: top;\n",
       "    }\n",
       "\n",
       "    .dataframe thead th {\n",
       "        text-align: right;\n",
       "    }\n",
       "</style>\n",
       "<table border=\"1\" class=\"dataframe\">\n",
       "  <thead>\n",
       "    <tr style=\"text-align: right;\">\n",
       "      <th></th>\n",
       "      <th>text</th>\n",
       "      <th>explanation</th>\n",
       "    </tr>\n",
       "  </thead>\n",
       "  <tbody>\n",
       "    <tr>\n",
       "      <th>0</th>\n",
       "      <td>Is this a contract that purports to change or ...</td>\n",
       "      <td>Answer “yes” if the document purports to bind ...</td>\n",
       "    </tr>\n",
       "    <tr>\n",
       "      <th>1</th>\n",
       "      <td>Does this contract give the individual any way...</td>\n",
       "      <td>Answer “yes” if the contract provides some way...</td>\n",
       "    </tr>\n",
       "    <tr>\n",
       "      <th>2</th>\n",
       "      <td>Does this contract give the individual any way...</td>\n",
       "      <td>Answer “yes” if and only if the contract speci...</td>\n",
       "    </tr>\n",
       "    <tr>\n",
       "      <th>3</th>\n",
       "      <td>Does the contract require the use of physical ...</td>\n",
       "      <td>\"Physical mail” includes U.S. or foreign posta...</td>\n",
       "    </tr>\n",
       "    <tr>\n",
       "      <th>4</th>\n",
       "      <td>Does the contract contain any provision forbid...</td>\n",
       "      <td>Answer “yes” if the contract includes, for exa...</td>\n",
       "    </tr>\n",
       "  </tbody>\n",
       "</table>\n",
       "</div>"
      ],
      "text/plain": [
       "                                                text  \\\n",
       "0  Is this a contract that purports to change or ...   \n",
       "1  Does this contract give the individual any way...   \n",
       "2  Does this contract give the individual any way...   \n",
       "3  Does the contract require the use of physical ...   \n",
       "4  Does the contract contain any provision forbid...   \n",
       "\n",
       "                                         explanation  \n",
       "0  Answer “yes” if the document purports to bind ...  \n",
       "1  Answer “yes” if the contract provides some way...  \n",
       "2  Answer “yes” if and only if the contract speci...  \n",
       "3  \"Physical mail” includes U.S. or foreign posta...  \n",
       "4  Answer “yes” if the contract includes, for exa...  "
      ]
     },
     "execution_count": 2,
     "metadata": {},
     "output_type": "execute_result"
    }
   ],
   "source": [
    "import pandas as pd\n",
    "df = pd.read_csv(\"questions.csv\", header=None, names=[\"text\", \"explanation\"])\n",
    "df.head()"
   ]
  },
  {
   "cell_type": "code",
   "execution_count": 5,
   "metadata": {
    "collapsed": false
   },
   "outputs": [
    {
     "data": {
      "text/html": [
       "<div>\n",
       "<style scoped>\n",
       "    .dataframe tbody tr th:only-of-type {\n",
       "        vertical-align: middle;\n",
       "    }\n",
       "\n",
       "    .dataframe tbody tr th {\n",
       "        vertical-align: top;\n",
       "    }\n",
       "\n",
       "    .dataframe thead th {\n",
       "        text-align: right;\n",
       "    }\n",
       "</style>\n",
       "<table border=\"1\" class=\"dataframe\">\n",
       "  <thead>\n",
       "    <tr style=\"text-align: right;\">\n",
       "      <th></th>\n",
       "      <th>text</th>\n",
       "      <th>explanation</th>\n",
       "    </tr>\n",
       "  </thead>\n",
       "  <tbody>\n",
       "    <tr>\n",
       "      <th>0</th>\n",
       "      <td>Is this a contract that purports to change or ...</td>\n",
       "      <td>Answer \"yes\" if the document purports to bind ...</td>\n",
       "    </tr>\n",
       "    <tr>\n",
       "      <th>1</th>\n",
       "      <td>Does this contract give the individual any way...</td>\n",
       "      <td>Answer \"yes\" if the contract provides some way...</td>\n",
       "    </tr>\n",
       "    <tr>\n",
       "      <th>2</th>\n",
       "      <td>Does this contract give the individual any way...</td>\n",
       "      <td>Answer \"yes\" if and only if the contract speci...</td>\n",
       "    </tr>\n",
       "    <tr>\n",
       "      <th>3</th>\n",
       "      <td>Does the contract require the use of physical ...</td>\n",
       "      <td>\"Physical mail\" includes U.S. or foreign posta...</td>\n",
       "    </tr>\n",
       "    <tr>\n",
       "      <th>4</th>\n",
       "      <td>Does the contract contain any provision forbid...</td>\n",
       "      <td>Answer \"yes\" if the contract includes, for exa...</td>\n",
       "    </tr>\n",
       "  </tbody>\n",
       "</table>\n",
       "</div>"
      ],
      "text/plain": [
       "                                                text  \\\n",
       "0  Is this a contract that purports to change or ...   \n",
       "1  Does this contract give the individual any way...   \n",
       "2  Does this contract give the individual any way...   \n",
       "3  Does the contract require the use of physical ...   \n",
       "4  Does the contract contain any provision forbid...   \n",
       "\n",
       "                                         explanation  \n",
       "0  Answer \"yes\" if the document purports to bind ...  \n",
       "1  Answer \"yes\" if the contract provides some way...  \n",
       "2  Answer \"yes\" if and only if the contract speci...  \n",
       "3  \"Physical mail\" includes U.S. or foreign posta...  \n",
       "4  Answer \"yes\" if the contract includes, for exa...  "
      ]
     },
     "execution_count": 5,
     "metadata": {},
     "output_type": "execute_result"
    }
   ],
   "source": [
    "drek = {u'“': '\"', u'”': '\"', u\"’\": \"'\", u\"‘\": \"'\", u'—': '-', u'−': '-', u'…': '...', u'•': '-', '–':'-'}\n",
    "def clean(text):\n",
    "    for key in drek.keys():\n",
    "        text = text.replace(key, drek[key])\n",
    "    return text\n",
    "df = df.applymap(clean)\n",
    "df.head()"
   ]
  },
  {
   "cell_type": "code",
   "execution_count": 6,
   "metadata": {
    "collapsed": true
   },
   "outputs": [],
   "source": [
    "df.to_json(\"questions_for_prod.json\")"
   ]
  },
  {
   "cell_type": "code",
   "execution_count": null,
   "metadata": {
    "collapsed": true
   },
   "outputs": [],
   "source": []
  }
 ],
 "metadata": {
  "kernelspec": {
   "display_name": "scrapecontracts",
   "language": "python",
   "name": "scrapecontracts"
  },
  "language_info": {
   "codemirror_mode": {
    "name": "ipython",
    "version": 3
   },
   "file_extension": ".py",
   "mimetype": "text/x-python",
   "name": "python",
   "nbconvert_exporter": "python",
   "pygments_lexer": "ipython3",
   "version": "3.6.1"
  }
 },
 "nbformat": 4,
 "nbformat_minor": 0
}
